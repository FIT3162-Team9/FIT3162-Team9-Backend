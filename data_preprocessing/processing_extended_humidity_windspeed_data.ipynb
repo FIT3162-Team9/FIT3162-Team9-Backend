{
 "cells": [
  {
   "cell_type": "markdown",
   "metadata": {},
   "source": [
    "# Preprocessing Humidity and Windspeed Data"
   ]
  },
  {
   "cell_type": "markdown",
   "metadata": {},
   "source": [
    "## Import some libraries"
   ]
  },
  {
   "cell_type": "code",
   "execution_count": 2,
   "metadata": {},
   "outputs": [],
   "source": [
    "import pandas as pd\n",
    "import numpy as np\n",
    "from pandas.tseries.offsets import DateOffset\n",
    "from pandas import Timestamp"
   ]
  },
  {
   "cell_type": "markdown",
   "metadata": {},
   "source": [
    "## Import Data"
   ]
  },
  {
   "cell_type": "code",
   "execution_count": 2,
   "metadata": {},
   "outputs": [],
   "source": [
    "weather_data = pd.read_csv(\"humidity_windspeed_data/extended_humidity_windspeed.csv\")"
   ]
  },
  {
   "cell_type": "code",
   "execution_count": 3,
   "metadata": {},
   "outputs": [
    {
     "data": {
      "text/html": [
       "<div>\n",
       "<style scoped>\n",
       "    .dataframe tbody tr th:only-of-type {\n",
       "        vertical-align: middle;\n",
       "    }\n",
       "\n",
       "    .dataframe tbody tr th {\n",
       "        vertical-align: top;\n",
       "    }\n",
       "\n",
       "    .dataframe thead th {\n",
       "        text-align: right;\n",
       "    }\n",
       "</style>\n",
       "<table border=\"1\" class=\"dataframe\">\n",
       "  <thead>\n",
       "    <tr style=\"text-align: right;\">\n",
       "      <th></th>\n",
       "      <th>Day</th>\n",
       "      <th>Month</th>\n",
       "      <th>Year</th>\n",
       "      <th>Humidity</th>\n",
       "      <th>State</th>\n",
       "      <th>Suburb</th>\n",
       "      <th>location</th>\n",
       "      <th>Windspeed</th>\n",
       "      <th>Date Time</th>\n",
       "    </tr>\n",
       "  </thead>\n",
       "  <tbody>\n",
       "    <tr>\n",
       "      <th>0</th>\n",
       "      <td>1</td>\n",
       "      <td>12</td>\n",
       "      <td>2008</td>\n",
       "      <td>71.0</td>\n",
       "      <td>VIC</td>\n",
       "      <td>Ballarat</td>\n",
       "      <td>Ballarat North</td>\n",
       "      <td>26</td>\n",
       "      <td>2008-12-01</td>\n",
       "    </tr>\n",
       "    <tr>\n",
       "      <th>1</th>\n",
       "      <td>2</td>\n",
       "      <td>12</td>\n",
       "      <td>2008</td>\n",
       "      <td>66.0</td>\n",
       "      <td>VIC</td>\n",
       "      <td>Ballarat</td>\n",
       "      <td>Ballarat North</td>\n",
       "      <td>20</td>\n",
       "      <td>2008-12-02</td>\n",
       "    </tr>\n",
       "    <tr>\n",
       "      <th>2</th>\n",
       "      <td>3</td>\n",
       "      <td>12</td>\n",
       "      <td>2008</td>\n",
       "      <td>82.0</td>\n",
       "      <td>VIC</td>\n",
       "      <td>Ballarat</td>\n",
       "      <td>Ballarat North</td>\n",
       "      <td>22</td>\n",
       "      <td>2008-12-03</td>\n",
       "    </tr>\n",
       "    <tr>\n",
       "      <th>3</th>\n",
       "      <td>4</td>\n",
       "      <td>12</td>\n",
       "      <td>2008</td>\n",
       "      <td>60.0</td>\n",
       "      <td>VIC</td>\n",
       "      <td>Ballarat</td>\n",
       "      <td>Ballarat North</td>\n",
       "      <td>9</td>\n",
       "      <td>2008-12-04</td>\n",
       "    </tr>\n",
       "    <tr>\n",
       "      <th>4</th>\n",
       "      <td>5</td>\n",
       "      <td>12</td>\n",
       "      <td>2008</td>\n",
       "      <td>74.0</td>\n",
       "      <td>VIC</td>\n",
       "      <td>Ballarat</td>\n",
       "      <td>Ballarat North</td>\n",
       "      <td>30</td>\n",
       "      <td>2008-12-05</td>\n",
       "    </tr>\n",
       "    <tr>\n",
       "      <th>...</th>\n",
       "      <td>...</td>\n",
       "      <td>...</td>\n",
       "      <td>...</td>\n",
       "      <td>...</td>\n",
       "      <td>...</td>\n",
       "      <td>...</td>\n",
       "      <td>...</td>\n",
       "      <td>...</td>\n",
       "      <td>...</td>\n",
       "    </tr>\n",
       "    <tr>\n",
       "      <th>41719</th>\n",
       "      <td>22</td>\n",
       "      <td>9</td>\n",
       "      <td>2020</td>\n",
       "      <td>70.0</td>\n",
       "      <td>VIC</td>\n",
       "      <td>NaN</td>\n",
       "      <td>Horsham</td>\n",
       "      <td>39</td>\n",
       "      <td>2020-09-22</td>\n",
       "    </tr>\n",
       "    <tr>\n",
       "      <th>41720</th>\n",
       "      <td>23</td>\n",
       "      <td>9</td>\n",
       "      <td>2020</td>\n",
       "      <td>81.0</td>\n",
       "      <td>VIC</td>\n",
       "      <td>NaN</td>\n",
       "      <td>Horsham</td>\n",
       "      <td>24</td>\n",
       "      <td>2020-09-23</td>\n",
       "    </tr>\n",
       "    <tr>\n",
       "      <th>41721</th>\n",
       "      <td>24</td>\n",
       "      <td>9</td>\n",
       "      <td>2020</td>\n",
       "      <td>95.0</td>\n",
       "      <td>VIC</td>\n",
       "      <td>NaN</td>\n",
       "      <td>Horsham</td>\n",
       "      <td>19</td>\n",
       "      <td>2020-09-24</td>\n",
       "    </tr>\n",
       "    <tr>\n",
       "      <th>41722</th>\n",
       "      <td>25</td>\n",
       "      <td>9</td>\n",
       "      <td>2020</td>\n",
       "      <td>79.0</td>\n",
       "      <td>VIC</td>\n",
       "      <td>NaN</td>\n",
       "      <td>Horsham</td>\n",
       "      <td>24</td>\n",
       "      <td>2020-09-25</td>\n",
       "    </tr>\n",
       "    <tr>\n",
       "      <th>41723</th>\n",
       "      <td>26</td>\n",
       "      <td>9</td>\n",
       "      <td>2020</td>\n",
       "      <td>73.0</td>\n",
       "      <td>VIC</td>\n",
       "      <td>NaN</td>\n",
       "      <td>Horsham</td>\n",
       "      <td>24</td>\n",
       "      <td>2020-09-26</td>\n",
       "    </tr>\n",
       "  </tbody>\n",
       "</table>\n",
       "<p>41724 rows × 9 columns</p>\n",
       "</div>"
      ],
      "text/plain": [
       "       Day  Month  Year  Humidity State    Suburb        location Windspeed  \\\n",
       "0        1     12  2008      71.0   VIC  Ballarat  Ballarat North        26   \n",
       "1        2     12  2008      66.0   VIC  Ballarat  Ballarat North        20   \n",
       "2        3     12  2008      82.0   VIC  Ballarat  Ballarat North        22   \n",
       "3        4     12  2008      60.0   VIC  Ballarat  Ballarat North         9   \n",
       "4        5     12  2008      74.0   VIC  Ballarat  Ballarat North        30   \n",
       "...    ...    ...   ...       ...   ...       ...             ...       ...   \n",
       "41719   22      9  2020      70.0   VIC       NaN         Horsham        39   \n",
       "41720   23      9  2020      81.0   VIC       NaN         Horsham        24   \n",
       "41721   24      9  2020      95.0   VIC       NaN         Horsham        19   \n",
       "41722   25      9  2020      79.0   VIC       NaN         Horsham        24   \n",
       "41723   26      9  2020      73.0   VIC       NaN         Horsham        24   \n",
       "\n",
       "        Date Time  \n",
       "0      2008-12-01  \n",
       "1      2008-12-02  \n",
       "2      2008-12-03  \n",
       "3      2008-12-04  \n",
       "4      2008-12-05  \n",
       "...           ...  \n",
       "41719  2020-09-22  \n",
       "41720  2020-09-23  \n",
       "41721  2020-09-24  \n",
       "41722  2020-09-25  \n",
       "41723  2020-09-26  \n",
       "\n",
       "[41724 rows x 9 columns]"
      ]
     },
     "execution_count": 3,
     "metadata": {},
     "output_type": "execute_result"
    }
   ],
   "source": [
    "weather_data"
   ]
  },
  {
   "cell_type": "markdown",
   "metadata": {},
   "source": [
    "Count number of missing values of the humidity"
   ]
  },
  {
   "cell_type": "code",
   "execution_count": 4,
   "metadata": {},
   "outputs": [
    {
     "data": {
      "text/plain": [
       "6136"
      ]
     },
     "execution_count": 4,
     "metadata": {},
     "output_type": "execute_result"
    }
   ],
   "source": [
    "len(weather_data[weather_data[\"Humidity\"].isnull()==True])"
   ]
  },
  {
   "cell_type": "markdown",
   "metadata": {},
   "source": [
    "Convert the Date Time column from string to Timestamp type"
   ]
  },
  {
   "cell_type": "code",
   "execution_count": 5,
   "metadata": {},
   "outputs": [],
   "source": [
    "weather_data[\"Date Time\"]=pd.to_datetime(weather_data[\"Date Time\"])\n",
    "temp_weather_data = weather_data.copy()"
   ]
  },
  {
   "cell_type": "markdown",
   "metadata": {},
   "source": [
    "Find the starting date and ending date recording weather data for each LGA"
   ]
  },
  {
   "cell_type": "code",
   "execution_count": 6,
   "metadata": {},
   "outputs": [],
   "source": [
    "start_date=weather_data.groupby('location',as_index=False)['Date Time'].min()\n",
    "end_date=weather_data.groupby('location',as_index=False)['Date Time'].max()"
   ]
  },
  {
   "cell_type": "markdown",
   "metadata": {},
   "source": [
    "### Find the missing value"
   ]
  },
  {
   "cell_type": "markdown",
   "metadata": {},
   "source": [
    "Calculate the mean of humidity"
   ]
  },
  {
   "cell_type": "code",
   "execution_count": 7,
   "metadata": {},
   "outputs": [],
   "source": [
    "missing_humidity_data = weather_data[np.isnan(weather_data['Humidity'])][['Date Time','location']]"
   ]
  },
  {
   "cell_type": "code",
   "execution_count": 8,
   "metadata": {},
   "outputs": [],
   "source": [
    "humidity_mean=weather_data.describe().loc['mean','Humidity']"
   ]
  },
  {
   "cell_type": "markdown",
   "metadata": {},
   "source": [
    "## Fill the missing data for humidity"
   ]
  },
  {
   "cell_type": "code",
   "execution_count": 11,
   "metadata": {},
   "outputs": [],
   "source": [
    "# Go through each row of the missing_humidity_data Dataframe\n",
    "for index, row in missing_humidity_data.iterrows():\n",
    "    date,location = row\n",
    "    #if the year is the starting year, we look up humidity data in the next years 2008, 2009,... (until we find not-null value)\n",
    "    if date.strftime('%Y')==pd.to_datetime(start_date.loc[start_date['location']==location,'Date Time'].values[0]).strftime('%Y'):\n",
    "        date_offset=date + DateOffset(years=1)\n",
    "        find_notnull=False\n",
    "        while date_offset<=end_date.loc[end_date['location']==location,'Date Time'].values[0]:\n",
    "            nextyear_humidity9am = temp_weather_data.loc[(temp_weather_data['Date Time']==date_offset) & (temp_weather_data['location']== location),'Humidity'].values[0]\n",
    "            #If we find a not null humidity\n",
    "            if np.isnan(nextyear_humidity9am)==False :\n",
    "                temp_weather_data.at[index,'Humidity'] = nextyear_humidity9am\n",
    "                find_notnull=True\n",
    "                break\n",
    "            date_offset=date_offset + DateOffset(years=1)\n",
    "        #if we cannot find not null value\n",
    "        if find_notnull==False:\n",
    "            temp_weather_data.at[index,'Humidity'] = humidity_mean\n",
    "            \n",
    "    #if the year is upper limit year, we look up humidity data in the previous years 2016, 2015,...(until we find not-null value)\n",
    "    elif date.strftime('%Y')==pd.to_datetime(end_date.loc[end_date['location']==location,'Date Time'].values[0]).strftime('%Y'):\n",
    "        date_offset=date - DateOffset(years=1)\n",
    "        find_notnull=False\n",
    "        while date_offset>=pd.to_datetime(start_date.loc[start_date['location']==location,'Date Time'].values[0]):\n",
    "            lastyear_humidity9am =  temp_weather_data.loc[(temp_weather_data['Date Time']==date_offset) & (temp_weather_data['location']== location),'Humidity'].values[0]\n",
    "            #If we find a not null humidity\n",
    "            if np.isnan(lastyear_humidity9am)==False:\n",
    "                temp_weather_data.at[index,'Humidity'] = lastyear_humidity9am\n",
    "                find_notnull=True\n",
    "                break\n",
    "            date_offset=date_offset - DateOffset(years=1)\n",
    "        #if we cannot find not null value\n",
    "        if find_notnull==False:\n",
    "            temp_weather_data.at[index,'Humidity'] = humidity_mean\n",
    "    #if the year is between the starting year and ending year \n",
    "    else:\n",
    "        filling_missing=0\n",
    "        date_offset=date + DateOffset(years=1)\n",
    "        nextyear_humidity9am=-1\n",
    "        #Find the next year humidity on the same day\n",
    "        while date_offset<=pd.to_datetime(end_date.loc[end_date['location']==location,'Date Time'].values[0]):\n",
    "            nextyear_humidity9am = temp_weather_data.loc[(temp_weather_data['Date Time']==date_offset) & (temp_weather_data['location']== location),'Humidity'].values[0]\n",
    "    \n",
    "            if np.isnan(nextyear_humidity9am)==False:\n",
    "                break\n",
    "            date_offset=date_offset + DateOffset(years=1)\n",
    "        date_offset= date-DateOffset(years=1)\n",
    "        lastyear_humidity9am=-1\n",
    "        #Find the previous humidity on the same day\n",
    "        while date_offset>=pd.to_datetime(start_date.loc[start_date['location']==location,'Date Time'].values[0]):\n",
    "            lastyear_humidity9am =  temp_weather_data.loc[(temp_weather_data['Date Time']==date_offset) & (temp_weather_data['location']== location),'Humidity'].values[0]\n",
    "            if np.isnan(lastyear_humidity9am)==False:\n",
    "                break\n",
    "            date_offset=date_offset - DateOffset(years=1)\n",
    "        #Check if previous and next humidity on the same day are not null\n",
    "        #If these values are null then fill by mean humidity\n",
    "        if np.isnan(nextyear_humidity9am) == True and np.isnan(lastyear_humidity9am)==True:\n",
    "            filling_missing = humidity_mean\n",
    "        #If one of these values is null\n",
    "        elif np.isnan(nextyear_humidity9am) == True and np.isnan(lastyear_humidity9am)==False:\n",
    "            filling_missing = lastyear_humidity9am\n",
    "        elif np.isnan(nextyear_humidity9am) ==False and np.isnan(lastyear_humidity9am)==True:\n",
    "            filling_missing = nextyear_humidity9am\n",
    "        #If both of them are not null\n",
    "        else:\n",
    "            filling_missing = (nextyear_humidity9am + lastyear_humidity9am)/2\n",
    "        temp_weather_data.loc[(temp_weather_data['Date Time']==date) & (temp_weather_data['location']== location),'Humidity'] = filling_missing"
   ]
  },
  {
   "cell_type": "markdown",
   "metadata": {},
   "source": [
    "Check the null value after filling the missing data"
   ]
  },
  {
   "cell_type": "code",
   "execution_count": 13,
   "metadata": {},
   "outputs": [
    {
     "data": {
      "text/plain": [
       "0"
      ]
     },
     "execution_count": 13,
     "metadata": {},
     "output_type": "execute_result"
    }
   ],
   "source": [
    "len(temp_weather_data[temp_weather_data[\"Humidity\"].isnull()==True])"
   ]
  },
  {
   "cell_type": "markdown",
   "metadata": {},
   "source": [
    "Write to file"
   ]
  },
  {
   "cell_type": "code",
   "execution_count": 15,
   "metadata": {},
   "outputs": [],
   "source": [
    "temp_weather_data.to_csv(\"humidity_windspeed_data/processed_humidity_windspeed_data.csv\",index=False)"
   ]
  },
  {
   "cell_type": "markdown",
   "metadata": {},
   "source": [
    "## Preprocessing Wind speed Data"
   ]
  },
  {
   "cell_type": "markdown",
   "metadata": {},
   "source": [
    "Read data from csv file"
   ]
  },
  {
   "cell_type": "code",
   "execution_count": 18,
   "metadata": {},
   "outputs": [],
   "source": [
    "weather_data=pd.read_csv(\"humidity_windspeed_data/processed_humidity_windspeed_data.csv\")\n",
    "weather_data[\"Date Time\"]=pd.to_datetime(weather_data[\"Date Time\"])\n"
   ]
  },
  {
   "cell_type": "markdown",
   "metadata": {},
   "source": [
    "Convert the data type to integer"
   ]
  },
  {
   "cell_type": "code",
   "execution_count": 19,
   "metadata": {},
   "outputs": [],
   "source": [
    "weather_data[\"Windspeed\"]=pd.to_numeric(temp_weather_data[\"Windspeed\"], errors='coerce')\n",
    "temp_weather_data = weather_data.copy()"
   ]
  },
  {
   "cell_type": "markdown",
   "metadata": {},
   "source": [
    "Count the missing values"
   ]
  },
  {
   "cell_type": "code",
   "execution_count": 20,
   "metadata": {},
   "outputs": [
    {
     "data": {
      "text/plain": [
       "8018"
      ]
     },
     "execution_count": 20,
     "metadata": {},
     "output_type": "execute_result"
    }
   ],
   "source": [
    "len(weather_data[weather_data[\"Windspeed\"].isnull()==True])"
   ]
  },
  {
   "cell_type": "code",
   "execution_count": 21,
   "metadata": {},
   "outputs": [],
   "source": [
    "missing_windpseed_data = weather_data[weather_data[\"Windspeed\"].isnull()==True][['Date Time','location']]"
   ]
  },
  {
   "cell_type": "code",
   "execution_count": 22,
   "metadata": {},
   "outputs": [
    {
     "data": {
      "text/html": [
       "<div>\n",
       "<style scoped>\n",
       "    .dataframe tbody tr th:only-of-type {\n",
       "        vertical-align: middle;\n",
       "    }\n",
       "\n",
       "    .dataframe tbody tr th {\n",
       "        vertical-align: top;\n",
       "    }\n",
       "\n",
       "    .dataframe thead th {\n",
       "        text-align: right;\n",
       "    }\n",
       "</style>\n",
       "<table border=\"1\" class=\"dataframe\">\n",
       "  <thead>\n",
       "    <tr style=\"text-align: right;\">\n",
       "      <th></th>\n",
       "      <th>Date Time</th>\n",
       "      <th>location</th>\n",
       "    </tr>\n",
       "  </thead>\n",
       "  <tbody>\n",
       "    <tr>\n",
       "      <th>34</th>\n",
       "      <td>2009-01-04</td>\n",
       "      <td>Ballarat North</td>\n",
       "    </tr>\n",
       "    <tr>\n",
       "      <th>109</th>\n",
       "      <td>2009-03-20</td>\n",
       "      <td>Ballarat North</td>\n",
       "    </tr>\n",
       "    <tr>\n",
       "      <th>150</th>\n",
       "      <td>2009-04-30</td>\n",
       "      <td>Ballarat North</td>\n",
       "    </tr>\n",
       "    <tr>\n",
       "      <th>192</th>\n",
       "      <td>2009-06-11</td>\n",
       "      <td>Ballarat North</td>\n",
       "    </tr>\n",
       "    <tr>\n",
       "      <th>198</th>\n",
       "      <td>2009-06-17</td>\n",
       "      <td>Ballarat North</td>\n",
       "    </tr>\n",
       "    <tr>\n",
       "      <th>...</th>\n",
       "      <td>...</td>\n",
       "      <td>...</td>\n",
       "    </tr>\n",
       "    <tr>\n",
       "      <th>41664</th>\n",
       "      <td>2020-07-29</td>\n",
       "      <td>Horsham</td>\n",
       "    </tr>\n",
       "    <tr>\n",
       "      <th>41665</th>\n",
       "      <td>2020-07-30</td>\n",
       "      <td>Horsham</td>\n",
       "    </tr>\n",
       "    <tr>\n",
       "      <th>41669</th>\n",
       "      <td>2020-08-03</td>\n",
       "      <td>Horsham</td>\n",
       "    </tr>\n",
       "    <tr>\n",
       "      <th>41672</th>\n",
       "      <td>2020-08-06</td>\n",
       "      <td>Horsham</td>\n",
       "    </tr>\n",
       "    <tr>\n",
       "      <th>41691</th>\n",
       "      <td>2020-08-25</td>\n",
       "      <td>Horsham</td>\n",
       "    </tr>\n",
       "  </tbody>\n",
       "</table>\n",
       "<p>8018 rows × 2 columns</p>\n",
       "</div>"
      ],
      "text/plain": [
       "       Date Time        location\n",
       "34    2009-01-04  Ballarat North\n",
       "109   2009-03-20  Ballarat North\n",
       "150   2009-04-30  Ballarat North\n",
       "192   2009-06-11  Ballarat North\n",
       "198   2009-06-17  Ballarat North\n",
       "...          ...             ...\n",
       "41664 2020-07-29         Horsham\n",
       "41665 2020-07-30         Horsham\n",
       "41669 2020-08-03         Horsham\n",
       "41672 2020-08-06         Horsham\n",
       "41691 2020-08-25         Horsham\n",
       "\n",
       "[8018 rows x 2 columns]"
      ]
     },
     "execution_count": 22,
     "metadata": {},
     "output_type": "execute_result"
    }
   ],
   "source": [
    "missing_windpseed_data"
   ]
  },
  {
   "cell_type": "markdown",
   "metadata": {},
   "source": [
    "Find the starting data and ending date"
   ]
  },
  {
   "cell_type": "code",
   "execution_count": 23,
   "metadata": {},
   "outputs": [],
   "source": [
    "start_date=weather_data.groupby('location',as_index=False)['Date Time'].min()\n",
    "end_date=weather_data.groupby('location',as_index=False)['Date Time'].max()"
   ]
  },
  {
   "cell_type": "code",
   "execution_count": 24,
   "metadata": {},
   "outputs": [],
   "source": [
    "windspeed_mean=weather_data.describe().loc['mean','Windspeed']"
   ]
  },
  {
   "cell_type": "markdown",
   "metadata": {},
   "source": [
    "## Fill the missing windspeed"
   ]
  },
  {
   "cell_type": "code",
   "execution_count": 25,
   "metadata": {},
   "outputs": [],
   "source": [
    "# Go through each row of the missing_windspeed_data Dataframe\n",
    "for index, row in missing_windpseed_data.iterrows():\n",
    "    date,location = row\n",
    "    #if the year is the start year, we look up windspeed data in the next years 2008, 2009,... (until we find not-null value)\n",
    "    if date.strftime('%Y')==pd.to_datetime(start_date.loc[start_date['location']==location,'Date Time'].values[0]).strftime('%Y'):\n",
    "        date_offset=date + DateOffset(years=1)\n",
    "        find_notnull=False\n",
    "        while date_offset<=end_date.loc[end_date['location']==location,'Date Time'].values[0]:\n",
    "            nextyear_windspeed9am = temp_weather_data.loc[(temp_weather_data['Date Time']==date_offset) & (temp_weather_data['location']== location),'Windspeed'].values[0]\n",
    "            #If we find a not null windspeed\n",
    "            if pd.isnull(nextyear_windspeed9am)==False :\n",
    "                #Assign that value to the current missing value\n",
    "                temp_weather_data.at[index,'Windspeed'] = nextyear_windspeed9am\n",
    "                find_notnull=True\n",
    "                break\n",
    "            date_offset=date_offset + DateOffset(years=1)\n",
    "        #if we cannot find not null value\n",
    "        if find_notnull==False:\n",
    "            #Assign to the mean wind speed\n",
    "            temp_weather_data.at[index,'Windspeed'] = windspeed_mean\n",
    "            \n",
    "    #if the year is upper limit year, we look up humidity data in the previous years 2016, 2015,...(until we find not-null value)\n",
    "    elif date.strftime('%Y')==pd.to_datetime(end_date.loc[end_date['location']==location,'Date Time'].values[0]).strftime('%Y'):\n",
    "        date_offset=date - DateOffset(years=1)\n",
    "        find_notnull=False\n",
    "        while date_offset>=pd.to_datetime(start_date.loc[start_date['location']==location,'Date Time'].values[0]):\n",
    "            lastyear_windspeed9am =  temp_weather_data.loc[(temp_weather_data['Date Time']==date_offset) & (temp_weather_data['location']== location),'Windspeed'].values[0]\n",
    "            #If we find a not null wind speed\n",
    "            if pd.isnull(lastyear_windspeed9am)==False:\n",
    "                #Assign that value to the current missing value\n",
    "                temp_weather_data.at[index,'Windspeed'] = lastyear_windspeed9am\n",
    "                find_notnull=True\n",
    "                break\n",
    "            date_offset=date_offset - DateOffset(years=1)\n",
    "        #if we cannot find not null value\n",
    "        if find_notnull==False:\n",
    "            #Assign to the mean wind speed value\n",
    "            temp_weather_data.at[index,'Windspeed'] = windspeed_mean\n",
    "    #If the year of current missing value is between starting year and ending year\n",
    "    else:\n",
    "        filling_missing=0\n",
    "        date_offset=date + DateOffset(years=1)\n",
    "        nextyear_windspeed9am=-1\n",
    "        #Find the next year wind speed on the same day\n",
    "        while date_offset<=pd.to_datetime(end_date.loc[end_date['location']==location,'Date Time'].values[0]):\n",
    "            nextyear_windspeed9am = temp_weather_data.loc[(temp_weather_data['Date Time']==date_offset) & (temp_weather_data['location']== location),'Windspeed'].values[0]\n",
    "    \n",
    "            if pd.isnull(nextyear_windspeed9am)==False:\n",
    "                break\n",
    "            date_offset=date_offset + DateOffset(years=1)\n",
    "        date_offset= date-DateOffset(years=1)\n",
    "        lastyear_windspeed9am=-1\n",
    "        #Find the previous year wind speed on the same day\n",
    "        while date_offset>=pd.to_datetime(start_date.loc[start_date['location']==location,'Date Time'].values[0]):\n",
    "            lastyear_windspeed9am =  temp_weather_data.loc[(temp_weather_data['Date Time']==date_offset) & (temp_weather_data['location']== location),'Windspeed'].values[0]\n",
    "            if pd.isnull(lastyear_windspeed9am)==False:\n",
    "                break\n",
    "            date_offset=date_offset - DateOffset(years=1)\n",
    "        #Check if the wind speed value on the same day of the previous year and next year are not null\n",
    "        #If both are null then fill by the mean of windspeed\n",
    "        if pd.isnull(nextyear_windspeed9am) == True and pd.isnull(lastyear_windspeed9am)==True:\n",
    "            filling_missing = windspeed_mean\n",
    "        #If one of these values is null\n",
    "        elif pd.isnull(nextyear_windspeed9am) == True and pd.isnull(lastyear_windspeed9am)==False:\n",
    "            filling_missing = lastyear_windspeed9am\n",
    "        elif pd.isnull(nextyear_windspeed9am) ==False and pd.isnull(lastyear_windspeed9am)==True:\n",
    "            filling_missing = nextyear_windspeed9am\n",
    "        #If both are not null\n",
    "        else:\n",
    "            filling_missing = (nextyear_windspeed9am + lastyear_windspeed9am)/2\n",
    "        temp_weather_data.loc[(temp_weather_data['Date Time']==date) & (temp_weather_data['location']== location),'Windspeed'] = filling_missing"
   ]
  },
  {
   "cell_type": "markdown",
   "metadata": {},
   "source": [
    "Count the missing data after filling the missing data"
   ]
  },
  {
   "cell_type": "code",
   "execution_count": 27,
   "metadata": {},
   "outputs": [
    {
     "data": {
      "text/plain": [
       "0"
      ]
     },
     "execution_count": 27,
     "metadata": {},
     "output_type": "execute_result"
    }
   ],
   "source": [
    "len(temp_weather_data[temp_weather_data[\"Windspeed\"].isnull()==True])"
   ]
  },
  {
   "cell_type": "markdown",
   "metadata": {},
   "source": [
    "Write to file"
   ]
  },
  {
   "cell_type": "code",
   "execution_count": 33,
   "metadata": {},
   "outputs": [],
   "source": [
    "temp_weather_data[\"Windspeed\"]=np.ceil(temp_weather_data[\"Windspeed\"]).astype(int)"
   ]
  },
  {
   "cell_type": "code",
   "execution_count": 34,
   "metadata": {},
   "outputs": [],
   "source": [
    "temp_weather_data.to_csv(\"humidity_windspeed_data/processed_humidity_windspeed_data.csv\",index=False)"
   ]
  }
 ],
 "metadata": {
  "kernelspec": {
   "display_name": "Python 3",
   "language": "python",
   "name": "python3"
  },
  "language_info": {
   "codemirror_mode": {
    "name": "ipython",
    "version": 3
   },
   "file_extension": ".py",
   "mimetype": "text/x-python",
   "name": "python",
   "nbconvert_exporter": "python",
   "pygments_lexer": "ipython3",
   "version": "3.7.0"
  }
 },
 "nbformat": 4,
 "nbformat_minor": 4
}
